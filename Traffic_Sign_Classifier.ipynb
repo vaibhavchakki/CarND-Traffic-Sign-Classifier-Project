{
 "cells": [
  {
   "cell_type": "markdown",
   "metadata": {},
   "source": [
    "# Self-Driving Car Engineer Nanodegree\n",
    "\n",
    "## Deep Learning\n",
    "\n",
    "## Project: Build a Traffic Sign Recognition Classifier\n",
    "\n",
    "In this notebook, a template is provided for you to implement your functionality in stages which is required to successfully complete this project. If additional code is required that cannot be included in the notebook, be sure that the Python code is successfully imported and included in your submission, if necessary. Sections that begin with **'Implementation'** in the header indicate where you should begin your implementation for your project. Note that some sections of implementation are optional, and will be marked with **'Optional'** in the header.\n",
    "\n",
    "In addition to implementing code, there will be questions that you must answer which relate to the project and your implementation. Each section where you will answer a question is preceded by a **'Question'** header. Carefully read each question and provide thorough answers in the following text boxes that begin with **'Answer:'**. Your project submission will be evaluated based on your answers to each of the questions and the implementation you provide.\n",
    "\n",
    ">**Note:** Code and Markdown cells can be executed using the **Shift + Enter** keyboard shortcut. In addition, Markdown cells can be edited by typically double-clicking the cell to enter edit mode."
   ]
  },
  {
   "cell_type": "markdown",
   "metadata": {},
   "source": [
    "---\n",
    "## Step 0: Load The Data"
   ]
  },
  {
   "cell_type": "code",
   "execution_count": 1,
   "metadata": {
    "collapsed": true
   },
   "outputs": [],
   "source": [
    "# Load pickled data\n",
    "import pickle\n",
    "\n",
    "# TODO: Fill this in based on where you saved the training and testing data\n",
    "\n",
    "training_file = \"train.p\"\n",
    "testing_file = \"test.p\"\n",
    "\n",
    "with open(training_file, mode='rb') as f:\n",
    "    train = pickle.load(f)\n",
    "with open(testing_file, mode='rb') as f:\n",
    "    test = pickle.load(f)\n",
    "    \n",
    "X_train, y_train = train['features'], train['labels']\n",
    "X_test, y_test = test['features'], test['labels']"
   ]
  },
  {
   "cell_type": "markdown",
   "metadata": {},
   "source": [
    "---\n",
    "\n",
    "## Step 1: Dataset Summary & Exploration\n",
    "\n",
    "The pickled data is a dictionary with 4 key/value pairs:\n",
    "\n",
    "- `'features'` is a 4D array containing raw pixel data of the traffic sign images, (num examples, width, height, channels).\n",
    "- `'labels'` is a 2D array containing the label/class id of the traffic sign. The file `signnames.csv` contains id -> name mappings for each id.\n",
    "- `'sizes'` is a list containing tuples, (width, height) representing the the original width and height the image.\n",
    "- `'coords'` is a list containing tuples, (x1, y1, x2, y2) representing coordinates of a bounding box around the sign in the image. **THESE COORDINATES ASSUME THE ORIGINAL IMAGE. THE PICKLED DATA CONTAINS RESIZED VERSIONS (32 by 32) OF THESE IMAGES**\n",
    "\n",
    "Complete the basic data summary below."
   ]
  },
  {
   "cell_type": "code",
   "execution_count": 2,
   "metadata": {
    "collapsed": false
   },
   "outputs": [
    {
     "name": "stdout",
     "output_type": "stream",
     "text": [
      "Number of training examples = 39209\n",
      "Number of testing examples = 12630\n",
      "Image data shape = (32, 32)\n",
      "Number of classes = 43\n"
     ]
    }
   ],
   "source": [
    "### Replace each question mark with the appropriate value.\n",
    "import numpy as np\n",
    "\n",
    "# TODO: Number of training examples\n",
    "n_train = X_train.shape[0]\n",
    "\n",
    "# TODO: Number of testing examples.\n",
    "n_test = X_test.shape[0]\n",
    "\n",
    "# TODO: What's the shape of an traffic sign image?\n",
    "image_shape = (X_train.shape[1], X_train.shape[2])\n",
    "\n",
    "# TODO: How many unique classes/labels there are in the dataset.\n",
    "n_classes = len(np.unique(y_train))\n",
    "\n",
    "print(\"Number of training examples =\", n_train)\n",
    "print(\"Number of testing examples =\", n_test)\n",
    "print(\"Image data shape =\", image_shape)\n",
    "print(\"Number of classes =\", n_classes)"
   ]
  },
  {
   "cell_type": "markdown",
   "metadata": {},
   "source": [
    "Visualize the German Traffic Signs Dataset using the pickled file(s). This is open ended, suggestions include: plotting traffic sign images, plotting the count of each sign, etc.\n",
    "\n",
    "The [Matplotlib](http://matplotlib.org/) [examples](http://matplotlib.org/examples/index.html) and [gallery](http://matplotlib.org/gallery.html) pages are a great resource for doing visualizations in Python.\n",
    "\n",
    "**NOTE:** It's recommended you start with something simple first. If you wish to do more, come back to it after you've completed the rest of the sections."
   ]
  },
  {
   "cell_type": "code",
   "execution_count": 3,
   "metadata": {
    "collapsed": false
   },
   "outputs": [
    {
     "name": "stdout",
     "output_type": "stream",
     "text": [
      "19\n"
     ]
    },
    {
     "data": {
      "image/png": "[encoded data removed]",
      "text/plain": [
       "<matplotlib.figure.Figure at 0x10495a710>"
      ]
     },
     "metadata": {},
     "output_type": "display_data"
    }
   ],
   "source": [
    "### Data exploration visualization goes here.\n",
    "### Feel free to use as many code cells as needed.\n",
    "import matplotlib.pyplot as plt\n",
    "# Visualizations will be shown in the notebook.\n",
    "%matplotlib inline\n",
    "\n",
    "import random\n",
    "index = random.randint(0, n_train)\n",
    "image = X_train[index].squeeze()\n",
    "plt.figure(figsize=(1, 1))\n",
    "plt.imshow(image)\n",
    "print(y_train[index])"
   ]
  },
  {
   "cell_type": "markdown",
   "metadata": {},
   "source": [
    "----\n",
    "\n",
    "## Step 2: Design and Test a Model Architecture\n",
    "\n",
    "Design and implement a deep learning model that learns to recognize traffic signs. Train and test your model on the [German Traffic Sign Dataset](http://benchmark.ini.rub.de/?section=gtsrb&subsection=dataset).\n",
    "\n",
    "There are various aspects to consider when thinking about this problem:\n",
    "\n",
    "- Neural network architecture\n",
    "- Play around preprocessing techniques (normalization, rgb to grayscale, etc)\n",
    "- Number of examples per label (some have more than others).\n",
    "- Generate fake data.\n",
    "\n",
    "Here is an example of a [published baseline model on this problem](http://yann.lecun.com/exdb/publis/pdf/sermanet-ijcnn-11.pdf). It's not required to be familiar with the approach used in the paper but, it's good practice to try to read papers like these.\n",
    "\n",
    "**NOTE:** The LeNet-5 implementation shown in the [classroom](https://classroom.udacity.com/nanodegrees/nd013/parts/fbf77062-5703-404e-b60c-95b78b2f3f9e/modules/6df7ae49-c61c-4bb2-a23e-6527e69209ec/lessons/601ae704-1035-4287-8b11-e2c2716217ad/concepts/d4aca031-508f-4e0b-b493-e7b706120f81) at the end of the CNN lesson is a solid starting point. You'll have to change the number of classes and possibly the preprocessing, but aside from that it's plug and play!"
   ]
  },
  {
   "cell_type": "markdown",
   "metadata": {},
   "source": [
    "### Implementation\n",
    "\n",
    "Use the code cell (or multiple code cells, if necessary) to implement the first step of your project. Once you have completed your implementation and are satisfied with the results, be sure to thoroughly answer the questions that follow."
   ]
  },
  {
   "cell_type": "code",
   "execution_count": 4,
   "metadata": {
    "collapsed": false
   },
   "outputs": [],
   "source": [
    "### Preprocess the data here.\n",
    "### Feel free to use as many code cells as needed.\n",
    "from sklearn.utils import shuffle\n",
    "from skimage import color\n",
    "from sklearn.preprocessing import scale\n",
    "\n",
    "def PreProcess(X):\n",
    "    #X = color.rgb2luv(X)\n",
    "    #X = color.rgb2gray(X)\n",
    "    X = X.astype('float32')\n",
    "    X = X/255.0 - 0.5\n",
    "    #X = np.reshape(X, (-1, 32, 32, 1))\n",
    "    \n",
    "    return X\n",
    "\n",
    "\n",
    "X_train, y_train = shuffle(X_train, y_train, random_state = 42)\n",
    "#X_train = PreProcess(X_train)"
   ]
  },
  {
   "cell_type": "markdown",
   "metadata": {},
   "source": [
    "### Question 1 \n",
    "\n",
    "_Describe how you preprocessed the data. Why did you choose that technique?_"
   ]
  },
  {
   "cell_type": "markdown",
   "metadata": {},
   "source": [
    "**Answer:** I tried a couple of approaches to Pre-Process the data, converting the image to gray scale, rgbtoluv and normalizing the pixel value between 0 to 1. With both the approaches it did not yield me good accuarcy. So I decided only to shuffle the data as part of pre-processing.\n",
    "\n",
    "Normalization of pixel data is a type of pre-processing, this helps to converge to solution faster during gradient descent. Converting the image (pixel data) to gray scale reduces the amount of data to learn during training and hence improve speed of training, however converting to gray scale we eliminate some features (i.e color) and hence wherever color feature is important, we cannot use this.\n",
    "\n",
    "Based on further reading as I understand for image classification, whitening and contrast normilzation are great techniques for preprocessing on images, since the human brain does this as part of its vision also. I did not try this in this project, but this are few techniques would consider during the next project for image classification\n"
   ]
  },
  {
   "cell_type": "code",
   "execution_count": 5,
   "metadata": {
    "collapsed": true
   },
   "outputs": [],
   "source": [
    "### Generate data additional data (OPTIONAL!)\n",
    "### and split the data into training/validation/testing sets here.\n",
    "### Feel free to use as many code cells as needed.\n",
    "from sklearn.model_selection import train_test_split\n",
    "\n",
    "X_train, X_validation, y_train, y_validation = train_test_split(X_train, y_train, \n",
    "                                                                test_size=0.2, \n",
    "                                                                stratify=y_train, \n",
    "                                                                random_state=42)"
   ]
  },
  {
   "cell_type": "markdown",
   "metadata": {},
   "source": [
    "### Question 2\n",
    "\n",
    "_Describe how you set up the training, validation and testing data for your model. **Optional**: If you generated additional data, how did you generate the data? Why did you generate the data? What are the differences in the new dataset (with generated data) from the original dataset?_"
   ]
  },
  {
   "cell_type": "markdown",
   "metadata": {},
   "source": [
    "**Answer:** I used the sklearn train_test_split to split the X_train into training and validation sets. I chose 20% of the original training data to be split into validation data.\n",
    "The reason to generate and test on validation data is to make sure I am able to generazalize the model better and to make sure that test data does not influcence the training model"
   ]
  },
  {
   "cell_type": "code",
   "execution_count": 6,
   "metadata": {
    "collapsed": true
   },
   "outputs": [],
   "source": [
    "### Define your architecture here.\n",
    "### Feel free to use as many code cells as needed.\n",
    "from tensorflow.contrib.layers import flatten\n",
    "\n",
    "def LeNet(x, keep_prob):\n",
    "    mu = 0\n",
    "    sigma = 0.02\n",
    "    \n",
    "    # layer 1 - convolution, Input = 32x32x3, Output = 28x28x32\n",
    "    conv1_W = tf.Variable(tf.truncated_normal(shape=(5, 5, 3, 32), mean = mu, stddev = sigma))\n",
    "    conv1_B = tf.Variable(tf.zeros(32))\n",
    "    conv1 = tf.nn.bias_add(tf.nn.conv2d(x, conv1_W, strides=[1, 1, 1, 1], padding='VALID'), conv1_B)\n",
    "    \n",
    "    # layer 1 - activation\n",
    "    conv1 = tf.nn.relu(conv1)\n",
    "    \n",
    "    # layer 1 - max pooling, Input = 28x28x32, Output = 14x14x32\n",
    "    conv1 = tf.nn.max_pool(conv1, ksize=[1, 2, 2, 1], strides=[1, 2, 2, 1], padding='VALID')\n",
    "    \n",
    "    # layer 2 - convolution, Input = 14x14x32, Output = 12x12x128\n",
    "    conv2_W = tf.Variable(tf.truncated_normal(shape=(3, 3, 32, 128), mean = mu, stddev = sigma))\n",
    "    conv2_B = tf.Variable(tf.zeros(128))\n",
    "    conv2 = tf.nn.bias_add(tf.nn.conv2d(conv1, conv2_W, strides=[1, 1, 1, 1], padding='VALID'), conv2_B)\n",
    "    \n",
    "    # layer 2 - activation\n",
    "    conv2 = tf.nn.relu(conv2)\n",
    "    \n",
    "    # layer 2 - max pooling, Input = 12x12x128, Output = 6x6x128\n",
    "    conv2 = tf.nn.max_pool(conv2, ksize=[1, 2, 2, 1], strides=[1, 2, 2, 1], padding='VALID')\n",
    "    \n",
    "    # layer 3 - convolution, Input = 6x6x128, Output = 4x4x256\n",
    "    conv3_W = tf.Variable(tf.truncated_normal(shape=(3, 3, 128, 256), mean = mu, stddev = sigma))\n",
    "    conv3_B = tf.Variable(tf.zeros(256))\n",
    "    conv3 = tf.nn.bias_add(tf.nn.conv2d(conv2, conv3_W, strides=[1, 1, 1, 1], padding='VALID'), conv3_B)\n",
    "    \n",
    "    # layer 3 - activation\n",
    "    conv3 = tf.nn.relu(conv3)\n",
    "    \n",
    "    # layer 3 - max pooling, Input = 4x4x256, Output = 2x2x256\n",
    "    conv3 = tf.nn.max_pool(conv3, ksize=[1, 2, 2, 1], strides=[1, 2, 2, 1], padding='VALID')\n",
    "    \n",
    "    # flatten, Input = 2x2x256, Output = 1024\n",
    "    fc = flatten(conv3)\n",
    "    \n",
    "    # layer 4 - fully connected 1, Input = 1024, Output = 256\n",
    "    fc1_W = tf.Variable(tf.truncated_normal(shape=(1024, 256), mean = mu, stddev = sigma))\n",
    "    fc1_B = tf.Variable(tf.zeros(256))\n",
    "    fc1 = tf.matmul(fc, fc1_W) + fc1_B\n",
    "    \n",
    "    # layer 4 - activation\n",
    "    fc1 = tf.nn.relu(fc1)\n",
    "    \n",
    "    # dropout - to avoid overfitting\n",
    "    fc1 = tf.nn.dropout(fc1, keep_prob)\n",
    "    \n",
    "    # layer 5 = fully connected 2, Input = 512, Ouptut = 128\n",
    "    #fc2_W = tf.Variable(tf.truncated_normal(shape=(512, 128), mean = mu, stddev = sigma))\n",
    "    #fc2_B = tf.Variable(tf.zeros(128))\n",
    "    #fc2 = tf.matmul(fc1, fc2_W) + fc2_B\n",
    "    \n",
    "    # layer 5 - activation\n",
    "    #fc2 = tf.nn.relu(fc2)\n",
    "    \n",
    "    # dropout - to avoid overfitting\n",
    "    #fc2 = tf.nn.dropout(fc2, keep_prob)\n",
    "    \n",
    "    # layer 5 = fully connected 2, Input = 256, Output = 43\n",
    "    fc3_W = tf.Variable(tf.truncated_normal(shape=(256, 43), mean = mu, stddev = sigma))\n",
    "    fc3_B = tf.Variable(tf.zeros(43))\n",
    "    #logits = tf.nn.softmax(tf.matmul(fc1, fc3_W) + fc3_B)\n",
    "    logits = tf.matmul(fc1, fc3_W) + fc3_B\n",
    "        \n",
    "    return logits"
   ]
  },
  {
   "cell_type": "markdown",
   "metadata": {},
   "source": [
    "### Question 3\n",
    "\n",
    "_What does your final architecture look like? (Type of model, layers, sizes, connectivity, etc.)  For reference on how to build a deep neural network using TensorFlow, see [Deep Neural Network in TensorFlow\n",
    "](https://classroom.udacity.com/nanodegrees/nd013/parts/fbf77062-5703-404e-b60c-95b78b2f3f9e/modules/6df7ae49-c61c-4bb2-a23e-6527e69209ec/lessons/b516a270-8600-4f93-a0a3-20dfeabe5da6/concepts/83a3a2a2-a9bd-4b7b-95b0-eb924ab14432) from the classroom._\n"
   ]
  },
  {
   "cell_type": "markdown",
   "metadata": {},
   "source": [
    "**Answer:** The CNN model has 5 layers and is described as below:\n",
    "Layer 1 (Input Layer):\n",
    "Convolution, Input: 32x32x3, Output: 28x28x32, Filter: 5x5, Strides: 1x1x1x1, Padding: VALID\n",
    "Relu activation\n",
    "Max Pooling, Input: 28x28x32, Output: 14x14x32, Strides: 1x2x2x1, Padding: VALID \n",
    "\n",
    "Layer 2:\n",
    "Convolution, Input: 14x14x32, Output: 12x12x128, Filter: 3x3, Strides: 1x1x1x1, Padding: VALID\n",
    "Relu activation\n",
    "Max Pooling, Input: 12x12x128, Output: 6x6x128, Strides: 1x2x2x1, Padding: VALID\n",
    "\n",
    "Layer 3:\n",
    "Convolution, Input: 6x6x128, Output: 4x4x256, Filter: 3x3, Strides: 1x1x1x1, Padding: VALID\n",
    "Relu activation\n",
    "Max Pooling, Input: 4x4x256, Output: 2x2x256, Strides: 1x2x2x1, Padding: VALID\n",
    "\n",
    "Layer 4:\n",
    "Fully Connected, Input: 1024, Output: 256\n",
    "Relu activation\n",
    "Dropout layer to avoid overfitting\n",
    "\n",
    "Layer 5 (Output Layer):\n",
    "Fully Connected, Input: 256, Output: 43\n",
    "\n"
   ]
  },
  {
   "cell_type": "code",
   "execution_count": 7,
   "metadata": {
    "collapsed": false
   },
   "outputs": [],
   "source": [
    "### Train your model here.\n",
    "### Feel free to use as many code cells as needed.\n",
    "import tensorflow as tf\n",
    "\n",
    "EPOCHS = 9\n",
    "BATCH_SIZE = 128\n",
    "\n",
    "x = tf.placeholder(tf.float32, (None, 32, 32, 3))\n",
    "y = tf.placeholder(tf.int32, (None))\n",
    "keep_prob = tf.placeholder(tf.float32) # Dropout probability\n",
    "one_hot_y = tf.one_hot(y, 43)"
   ]
  },
  {
   "cell_type": "code",
   "execution_count": 8,
   "metadata": {
    "collapsed": false
   },
   "outputs": [],
   "source": [
    "rate = 0.001\n",
    "\n",
    "logits = LeNet(x, keep_prob)\n",
    "cross_entropy = tf.nn.softmax_cross_entropy_with_logits(logits, one_hot_y)\n",
    "loss_operation = tf.reduce_mean(cross_entropy)\n",
    "optimizer = tf.train.AdamOptimizer(learning_rate = rate)\n",
    "training_operation = optimizer.minimize(loss_operation)"
   ]
  },
  {
   "cell_type": "code",
   "execution_count": 9,
   "metadata": {
    "collapsed": false
   },
   "outputs": [],
   "source": [
    "correct_prediction = tf.equal(tf.argmax(logits, 1), tf.argmax(one_hot_y, 1))\n",
    "accuracy_operation = tf.reduce_mean(tf.cast(correct_prediction, tf.float32))\n",
    "\n",
    "def evaluate(X_data, y_data):\n",
    "    num_examples = len(X_data)\n",
    "    total_accuracy = 0\n",
    "    sess = tf.get_default_session()\n",
    "    for offset in range(0, num_examples, BATCH_SIZE):\n",
    "        batch_x, batch_y = X_data[offset:offset+BATCH_SIZE], y_data[offset:offset+BATCH_SIZE]\n",
    "        accuracy = sess.run(accuracy_operation, feed_dict={x: batch_x, y: batch_y, keep_prob: 1.0})\n",
    "        total_accuracy += (accuracy * len(batch_x))\n",
    "    return total_accuracy / num_examples"
   ]
  },
  {
   "cell_type": "code",
   "execution_count": 10,
   "metadata": {
    "collapsed": false,
    "scrolled": true
   },
   "outputs": [
    {
     "name": "stdout",
     "output_type": "stream",
     "text": [
      "Training .....\n",
      "\n",
      "EPOCH 1...\n",
      "Validation Accuracy = 0.872\n",
      "\n",
      "EPOCH 2...\n",
      "Validation Accuracy = 0.973\n",
      "\n",
      "EPOCH 3...\n",
      "Validation Accuracy = 0.984\n",
      "\n",
      "EPOCH 4...\n",
      "Validation Accuracy = 0.986\n",
      "\n",
      "EPOCH 5...\n",
      "Validation Accuracy = 0.992\n",
      "\n",
      "EPOCH 6...\n",
      "Validation Accuracy = 0.980\n",
      "\n",
      "EPOCH 7...\n",
      "Validation Accuracy = 0.993\n",
      "\n",
      "EPOCH 8...\n",
      "Validation Accuracy = 0.993\n",
      "\n",
      "EPOCH 9...\n",
      "Validation Accuracy = 0.994\n",
      "\n",
      "Model Saved\n",
      "\n"
     ]
    }
   ],
   "source": [
    "with tf.Session() as sess:\n",
    "    sess.run(tf.global_variables_initializer())\n",
    "    num_examples = len(X_train)\n",
    "    \n",
    "    print(\"Training .....\\n\")\n",
    "    for i in range(0, EPOCHS):\n",
    "        X_train, y_train = shuffle(X_train, y_train)\n",
    "        \n",
    "        for offset in range(0, num_examples, BATCH_SIZE):\n",
    "            end = offset + BATCH_SIZE\n",
    "            batch_x, batch_y = X_train[offset:end], y_train[offset:end]\n",
    "            sess.run(training_operation, feed_dict={x:batch_x, y:batch_y, keep_prob: 0.4})\n",
    "        \n",
    "        validation_accuracy = evaluate(X_validation, y_validation)\n",
    "        print(\"EPOCH {}...\".format(i+1))\n",
    "        print(\"Validation Accuracy = {:.3f}\".format(validation_accuracy))\n",
    "        print()\n",
    "    \n",
    "    try:\n",
    "        saver\n",
    "    except NameError:\n",
    "        saver = tf.train.Saver()\n",
    "    saver.save(sess, 'lenet')\n",
    "    print(\"Model Saved\\n\")  "
   ]
  },
  {
   "cell_type": "code",
   "execution_count": 11,
   "metadata": {
    "collapsed": false
   },
   "outputs": [
    {
     "name": "stdout",
     "output_type": "stream",
     "text": [
      "Test Accuracy = 0.953\n"
     ]
    }
   ],
   "source": [
    "# test accuracy\n",
    "with tf.Session() as sess:\n",
    "    loader = tf.train.import_meta_graph('lenet.meta')\n",
    "    loader.restore(sess, tf.train.latest_checkpoint('./'))\n",
    "    \n",
    "    #X_test = PreProcess(X_test)\n",
    "    test_accuracy = evaluate(X_test, y_test)\n",
    "    print(\"Test Accuracy = {:.3f}\".format(test_accuracy))"
   ]
  },
  {
   "cell_type": "markdown",
   "metadata": {},
   "source": [
    "### Question 4\n",
    "\n",
    "_How did you train your model? (Type of optimizer, batch size, epochs, hyperparameters, etc.)_\n"
   ]
  },
  {
   "cell_type": "markdown",
   "metadata": {},
   "source": [
    "**Answer:** \n",
    "Optimizer: AdamOptimizer\n",
    "Other options tried: ProximalGradientDescentOptimizer\n",
    "\n",
    "Batch size: 128\n",
    "\n",
    "Epochs: Since I did not normalize the pixel input, I want to keep the training weights down to avoid overfitting. So tried a few values to keep the value low and seems as to '11' worked better for me\n",
    "\n",
    "Stddev: 0.02. Chosen this because of (1 / sqrt(32 * 32 *3))"
   ]
  },
  {
   "cell_type": "markdown",
   "metadata": {},
   "source": [
    "### Question 5\n",
    "\n",
    "\n",
    "_What approach did you take in coming up with a solution to this problem? It may have been a process of trial and error, in which case, outline the steps you took to get to the final solution and why you chose those steps. Perhaps your solution involved an already well known implementation or architecture. In this case, discuss why you think this is suitable for the current problem._"
   ]
  },
  {
   "cell_type": "markdown",
   "metadata": {},
   "source": [
    "**Answer:** \n",
    "From some of the reading, I understand optimial CNN layer arrangment are as like below:\n",
    "INPUT -> [CONV -> RELU -> POOL] * K -> [FC -> RELU] * N -> FC\n",
    "The values for K <=3, N <=3\n",
    "\n",
    "In order to find more features at each layer of the CNN, I choose the depth to be slightly higher, since I did not use gray scale image for training, I used the original raw image for training, used deeper network for training."
   ]
  },
  {
   "cell_type": "markdown",
   "metadata": {},
   "source": [
    "---\n",
    "\n",
    "## Step 3: Test a Model on New Images\n",
    "\n",
    "Take several pictures of traffic signs that you find on the web or around you (at least five), and run them through your classifier on your computer to produce example results. The classifier might not recognize some local signs but it could prove interesting nonetheless.\n",
    "\n",
    "You may find `signnames.csv` useful as it contains mappings from the class id (integer) to the actual sign name."
   ]
  },
  {
   "cell_type": "markdown",
   "metadata": {},
   "source": [
    "### Implementation\n",
    "\n",
    "Use the code cell (or multiple code cells, if necessary) to implement the first step of your project. Once you have completed your implementation and are satisfied with the results, be sure to thoroughly answer the questions that follow."
   ]
  },
  {
   "cell_type": "code",
   "execution_count": 12,
   "metadata": {
    "collapsed": false
   },
   "outputs": [
    {
     "data": {
      "image/png": "[encoded data removed]",
      "text/plain": [
       "<matplotlib.figure.Figure at 0x10dee25f8>"
      ]
     },
     "metadata": {},
     "output_type": "display_data"
    }
   ],
   "source": [
    "### Load the images and plot them here.\n",
    "### Feel free to use as many code cells as needed.\n",
    "from scipy import misc\n",
    "images = ['1.jpg', '2.jpg', '3.jpg', '4.jpg', '5.jpg', '6.jpg', '7.jpg', '8.jpg']\n",
    "img_arr = []\n",
    "\n",
    "fig = plt.figure(figsize=(4, 2))\n",
    "for i in range(0, len(images)):\n",
    "    im = misc.imread(images[i])\n",
    "    im = misc.imresize(im, (32, 32))\n",
    "    #im = PreProcess(im)\n",
    "    img_arr.append(im)\n",
    "    a  = fig.add_subplot(4, 2, i+1)\n",
    "    plt.imshow(im)\n",
    "    \n",
    "plt.show()"
   ]
  },
  {
   "cell_type": "markdown",
   "metadata": {},
   "source": [
    "### Question 6\n",
    "\n",
    "_Choose five candidate images of traffic signs and provide them in the report. Are there any particular qualities of the image(s) that might make classification difficult? It could be helpful to plot the images in the notebook._\n",
    "\n"
   ]
  },
  {
   "cell_type": "markdown",
   "metadata": {},
   "source": [
    "**Answer:** The model only trains for 43 different traffic signs, there are a lot more traffic signs and hence it might not be accurate.\n",
    "Also, from a real scene, the traffic sign might be smaller than (32, 32) pixels, causing it hard to be determined correctly."
   ]
  },
  {
   "cell_type": "code",
   "execution_count": 13,
   "metadata": {
    "collapsed": false
   },
   "outputs": [
    {
     "name": "stdout",
     "output_type": "stream",
     "text": [
      "[29 18 13 22 30 40 14 14]\n"
     ]
    }
   ],
   "source": [
    "### Run the predictions here.\n",
    "### Feel free to use as many code cells as needed.\n",
    "\n",
    "with tf.Session() as sess:\n",
    "    loader = tf.train.import_meta_graph('lenet.meta')\n",
    "    loader.restore(sess, tf.train.latest_checkpoint('./'))\n",
    "    \n",
    "    prediction = tf.argmax(logits, 1)\n",
    "    print(prediction.eval(feed_dict = {x: img_arr, keep_prob: 1.0}, session = sess))"
   ]
  },
  {
   "cell_type": "markdown",
   "metadata": {},
   "source": [
    "### Question 7\n",
    "\n",
    "_Is your model able to perform equally well on captured pictures when compared to testing on the dataset? The simplest way to do this check the accuracy of the predictions. For example, if the model predicted 1 out of 5 signs correctly, it's 20% accurate._\n",
    "\n",
    "_**NOTE:** You could check the accuracy manually by using `signnames.csv` (same directory). This file has a mapping from the class id (0-42) to the corresponding sign name. So, you could take the class id the model outputs, lookup the name in `signnames.csv` and see if it matches the sign from the image._\n"
   ]
  },
  {
   "cell_type": "markdown",
   "metadata": {},
   "source": [
    "**Answer:** The predictions accuracy is:\n",
    "1st Image: Actual: U-Turn Prohibited, Predicted: 29, Bicycles crossing (Incorrect)\n",
    "2nd Image: Actual: Road Narrow ahead, Predicted: 18, General Caution (Incorrect)\n",
    "3rd Image: Actual: Yield              Predicted: 13, Yield           (Correct)\n",
    "4th Image: Actual: Bump               Predicted: 22, Bumpy Road      (Correct)\n",
    "5th Image: Actual: Two way traffic,   Predicted: 30, Beware of Ice/Snow (Incorrect)\n",
    "6th Image: Actual: 40 Speed limit,    Predicted: 40, Roundabout Mandatory (Incorrect)\n",
    "7th Image: Actual: Traffic signals,   Predicted: 14, Stop (Incorrect)\n",
    "8th Image: Actual: Stop,              Predicted: 14, Stop (Correct)\n",
    "\n",
    "Accuracy: 37.5% (3/8)\n",
    "\n",
    "The accuracy for the candidate image is 37.5% much lower than the testing accuracy of 95.3%. The model did not perform well on the real world images because of the below reasons:\n",
    "1. It does not cover all the different traffic signs\n",
    "2. Background image of traffic sign might be different in real world case.\n",
    "3. The image might be rotated, reversed, tilted, jittered"
   ]
  },
  {
   "cell_type": "code",
   "execution_count": 14,
   "metadata": {
    "collapsed": false
   },
   "outputs": [
    {
     "name": "stdout",
     "output_type": "stream",
     "text": [
      "TopKV2(values=array([[  2.38026214,  -3.53425646,  -3.57098675,  -3.77313566,\n",
      "         -3.95983577],\n",
      "       [ 37.18575668,  -0.24093376,  -0.98586231,  -1.40954721,\n",
      "         -3.27715564],\n",
      "       [ 47.28866577,  11.21395206,   6.66422129,   2.63153028,\n",
      "         -8.72000313],\n",
      "       [ 32.40159988,  28.16049957,  11.14468575,   4.44111919,\n",
      "          3.75981379],\n",
      "       [ 18.48534775,  10.74223042,   3.84639597,   2.95801091,\n",
      "          2.49041915],\n",
      "       [  2.82548285,  -1.80240154,  -2.01889658,  -9.04554367,\n",
      "        -11.05942631],\n",
      "       [ -0.31201658,  -1.57271922,  -1.58558333,  -1.61566806,\n",
      "         -2.24443364],\n",
      "       [ 21.35726357,   5.11121082,  -4.15799046,  -9.42550468,\n",
      "        -10.38110828]], dtype=float32), indices=array([[29,  2, 25, 34, 20],\n",
      "       [18, 24, 11, 26, 27],\n",
      "       [13,  1,  4, 14,  2],\n",
      "       [22, 29, 28, 24, 20],\n",
      "       [30, 21, 24, 25, 31],\n",
      "       [40, 18, 21, 12, 38],\n",
      "       [14, 25, 38, 22, 26],\n",
      "       [14, 17, 12,  1, 29]], dtype=int32))\n"
     ]
    }
   ],
   "source": [
    "### Visualize the softmax probabilities here.\n",
    "### Feel free to use as many code cells as needed.\n",
    "with tf.Session() as sess:\n",
    "    loader = tf.train.import_meta_graph('lenet.meta')\n",
    "    loader.restore(sess, tf.train.latest_checkpoint('./'))\n",
    "    print(sess.run(tf.nn.top_k(logits, 5), feed_dict = {x: img_arr, keep_prob: 1.0}))"
   ]
  },
  {
   "cell_type": "markdown",
   "metadata": {},
   "source": [
    "### Question 8\n",
    "\n",
    "*Use the model's softmax probabilities to visualize the **certainty** of its predictions, [`tf.nn.top_k`](https://www.tensorflow.org/versions/r0.12/api_docs/python/nn.html#top_k) could prove helpful here. Which predictions is the model certain of? Uncertain? If the model was incorrect in its initial prediction, does the correct prediction appear in the top k? (k should be 5 at most)*\n",
    "\n",
    "`tf.nn.top_k` will return the values and indices (class ids) of the top k predictions. So if k=3, for each sign, it'll return the 3 largest probabilities (out of a possible 43) and the correspoding class ids.\n",
    "\n",
    "Take this numpy array as an example:\n",
    "\n",
    "```\n",
    "# (5, 6) array\n",
    "a = np.array([[ 0.24879643,  0.07032244,  0.12641572,  0.34763842,  0.07893497,\n",
    "         0.12789202],\n",
    "       [ 0.28086119,  0.27569815,  0.08594638,  0.0178669 ,  0.18063401,\n",
    "         0.15899337],\n",
    "       [ 0.26076848,  0.23664738,  0.08020603,  0.07001922,  0.1134371 ,\n",
    "         0.23892179],\n",
    "       [ 0.11943333,  0.29198961,  0.02605103,  0.26234032,  0.1351348 ,\n",
    "         0.16505091],\n",
    "       [ 0.09561176,  0.34396535,  0.0643941 ,  0.16240774,  0.24206137,\n",
    "         0.09155967]])\n",
    "```\n",
    "\n",
    "Running it through `sess.run(tf.nn.top_k(tf.constant(a), k=3))` produces:\n",
    "\n",
    "```\n",
    "TopKV2(values=array([[ 0.34763842,  0.24879643,  0.12789202],\n",
    "       [ 0.28086119,  0.27569815,  0.18063401],\n",
    "       [ 0.26076848,  0.23892179,  0.23664738],\n",
    "       [ 0.29198961,  0.26234032,  0.16505091],\n",
    "       [ 0.34396535,  0.24206137,  0.16240774]]), indices=array([[3, 0, 5],\n",
    "       [0, 1, 4],\n",
    "       [0, 5, 1],\n",
    "       [1, 3, 5],\n",
    "       [1, 4, 3]], dtype=int32))\n",
    "```\n",
    "\n",
    "Looking just at the first row we get `[ 0.34763842,  0.24879643,  0.12789202]`, you can confirm these are the 3 largest probabilities in `a`. You'll also notice `[3, 0, 5]` are the corresponding indices."
   ]
  },
  {
   "cell_type": "markdown",
   "metadata": {},
   "source": [
    "**Answer:** Some of the traffic signs are not part of the 43 sign's used for training and hence were wrong. \n",
    "On the 7th Image, where the actual signal is 'Traffic signals' & the predicted was 'Stop', in the top 5 values, I do see one of the index pointing to traffic signals and the values are close."
   ]
  },
  {
   "cell_type": "markdown",
   "metadata": {},
   "source": [
    "> **Note**: Once you have completed all of the code implementations and successfully answered each question above, you may finalize your work by exporting the iPython Notebook as an HTML document. You can do this by using the menu above and navigating to  \\n\",\n",
    "    \"**File -> Download as -> HTML (.html)**. Include the finished document along with this notebook as your submission."
   ]
  }
 ],
 "metadata": {
  "anaconda-cloud": {},
  "kernelspec": {
   "display_name": "Python 3",
   "language": "python",
   "name": "python3"
  },
  "language_info": {
   "codemirror_mode": {
    "name": "ipython",
    "version": 3
   },
   "file_extension": ".py",
   "mimetype": "text/x-python",
   "name": "python",
   "nbconvert_exporter": "python",
   "pygments_lexer": "ipython3",
   "version": "3.5.2"
  }
 },
 "nbformat": 4,
 "nbformat_minor": 1
}
